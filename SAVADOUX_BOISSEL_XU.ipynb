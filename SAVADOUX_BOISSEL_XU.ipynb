{
 "cells": [
  {
   "cell_type": "markdown",
   "id": "fff4db51",
   "metadata": {
    "pycharm": {
     "name": "#%% md\n"
    }
   },
   "source": [
    "# Challenge 5 ou mini-projet de Sécurité"
   ]
  },
  {
   "cell_type": "markdown",
   "id": "46aeb7d1",
   "metadata": {
    "pycharm": {
     "name": "#%% md\n"
    }
   },
   "source": [
    "Boisel Jules\n",
    "Xu William\n",
    "Savadoux Baptiste"
   ]
  },
  {
   "cell_type": "code",
   "execution_count": 665,
   "outputs": [],
   "source": [
    "import csv\n",
    "import requests\n",
    "import datetime\n",
    "import feedparser\n",
    "import uuid\n",
    "\n",
    "import os"
   ],
   "metadata": {
    "collapsed": false,
    "pycharm": {
     "name": "#%%\n"
    }
   }
  },
  {
   "cell_type": "code",
   "execution_count": 666,
   "outputs": [],
   "source": [
    "if not os.path.exists(\"Csv_Site\"): # créer les fichiers qu'on a besoin pour faire fonctionner le programme\n",
    "    os.makedirs(\"Csv_Site\")\n",
    "if not os.path.exists(\"result\"):\n",
    "    os.mkdir(\"result\")"
   ],
   "metadata": {
    "collapsed": false,
    "pycharm": {
     "name": "#%%\n"
    }
   }
  },
  {
   "cell_type": "code",
   "execution_count": 667,
   "outputs": [],
   "source": [
    "#fonction qui permet de supprimer les constant \\n \\r \\f \\t ...\n",
    "\n",
    "def enlever(text):\n",
    "    return text.replace(\"\\n\", \"\").replace(\"\\t\", \"\").replace(\"\\b\", \"\").replace(\"\\r\", \"\").replace(\"\\a\", \"\").replace(\"\\v\", \"\").replace(\"  \",\"\").replace(\" \",\"\").rstrip()\n",
    "\n",
    "def enleverbis(text):\n",
    "    return text.replace(\"\\t\", \"\").replace(\"\\b\", \"\").replace(\"\\r\", \"\").replace(\"\\a\", \"\").replace(\"\\v\", \"\").replace(\"  \",\"\").replace(\" \",\"\").rstrip()\n",
    "\n",
    "\n",
    "#input : \"  J'aime les \\t\\t\\t pates a la va  nille \"\n",
    "\n",
    "#output : \"J'aime les pates a la vanille\"\n",
    "\n"
   ],
   "metadata": {
    "collapsed": false,
    "pycharm": {
     "name": "#%%\n"
    }
   }
  },
  {
   "cell_type": "markdown",
   "source": [
    "<img src=\"https://cdn.discordapp.com/attachments/1031485777353375761/1035492748918276146/download.png\" style=\"width:400px;height:500px\">"
   ],
   "metadata": {
    "collapsed": false,
    "pycharm": {
     "name": "#%% md\n"
    }
   }
  },
  {
   "cell_type": "code",
   "execution_count": 668,
   "outputs": [],
   "source": [
    "#cette fonction nous permet d'ecrire dans un csv les sites ayant le rss ou le atom\n",
    "\n",
    "def New_CSV_site(emplacement , list_site):  # ecrit dans un csv (c'est juste plus simple)\n",
    "    with open(emplacement, \"w\", newline='', encoding='utf-8') as f:\n",
    "        for i in list_site:\n",
    "            f.write(i)\n",
    "    # print(\"terminé\",emplacement)\n",
    "\n",
    "#allez voir le fichier site_bon_rss et site_bon_atom"
   ],
   "metadata": {
    "collapsed": false,
    "pycharm": {
     "name": "#%%\n"
    }
   }
  },
  {
   "cell_type": "code",
   "execution_count": 669,
   "outputs": [],
   "source": [
    "liste_site_bon_rss = [] # définition d'une variable global pour pouvoir ajouter les sites dans les 2 fonctions\n",
    "liste_site_bon_atom = []\n",
    "\n",
    "\n",
    "# vérifie s'il y a \"atom\" dans un site (même fonction qu'au-dessus mais pour atom)\n",
    "\n",
    "def Verification_atom(req, site):\n",
    "    global liste_site_bon_atom\n",
    "\n",
    "    #on fait une requete pour avoir le html\n",
    "    #on split par saut de ligne\n",
    "    split = req.text.split(\"\\n\")\n",
    "\n",
    "    #si la ligne contient atom on a joute a la variable tableau global liste_site_bon_atom\n",
    "    for i in split:\n",
    "        if \"atom\" in i.lower() or \"atoms\" in i.lower() :\n",
    "            if str(site + \"\\n\") not in liste_site_bon_atom:\n",
    "                liste_site_bon_atom.append(site + \"\\n\")"
   ],
   "metadata": {
    "collapsed": false,
    "pycharm": {
     "name": "#%%\n"
    }
   }
  },
  {
   "cell_type": "code",
   "execution_count": 670,
   "outputs": [],
   "source": [
    "#cette fonction permet de recuperer les liens comportant rss selon la balise <a ... href=\"....\">\n",
    "def recuperation_lien_rss(lien_http):  # recupere le lien du rss\n",
    "\n",
    "    #check si on peut faire une requete\n",
    "    try:\n",
    "        st = enlever(requests.get(lien_http).text.replace(\"'\", '\"'))\n",
    "    except:\n",
    "        #sinon on return pr arreter la fonction\n",
    "        return\n",
    "\n",
    "    #variables pour contenir les balises et lien récupéré\n",
    "    balise_complet,lien = \"\",\"\"\n",
    "    #booleans pour savoir quand recuperer les letters etc\n",
    "    bool_balise,balise_lien = False,False\n",
    "    # temp = []\n",
    "    for j in range(len(st)-1):  # on check char par char\n",
    "\n",
    "        #Check si c'est le debut d'une balise <a ... >\n",
    "        if st[j] + st[j + 1] == \"<a\":\n",
    "            bool_balise = True\n",
    "\n",
    "        #check si c'est une balise fermante de <a ... > soit </a> on met bool_balise a false pour arreter de recuperer les idnex\n",
    "        if (st[j - 4] + st[j - 3] + st[j - 2] + st[j - 1] == \"</a>\") and bool_balise:  # check si fin\n",
    "            bool_balise = False\n",
    "            if \"rss\" in balise_complet.lower() and \"#\" not in balise_complet:\n",
    "\n",
    "                #parfois c'est juste le /feed/ etc sans le lien devant\n",
    "\n",
    "                if \"http\" not in lien:\n",
    "                    if lien_http+lien[1:]+\"\\n\" not in liste_site_bon_rss:\n",
    "                        liste_site_bon_rss.append((lien_http + lien[1:] + \"\\n\"))\n",
    "\n",
    "                else:\n",
    "                    if lien + \"\\n\" not in liste_site_bon_rss:\n",
    "                        liste_site_bon_rss.append((lien + \"\\n\"))\n",
    "\n",
    "                # temp += lien,\n",
    "            balise_complet,lien = \"\",\"\"\n",
    "\n",
    "        ####### Dans la var lien #######\n",
    "        #permet de pouvoir recuperer les index utiles Si True\n",
    "        if st[j - 6] + st[j - 5] + st[j - 4] + st[j - 3] + st[j - 2] + st[j - 1] == 'href=\"':\n",
    "            balise_lien = True\n",
    "        #Si false, ne permet de plus de recuprer les index\n",
    "        if st[j] == '\"' and st[-1] != \"=\":  # check si fin\n",
    "            balise_lien = False\n",
    "\n",
    "        #Ecriture si balise == True\n",
    "        if bool_balise:\n",
    "            #dans la balise complet\n",
    "            balise_complet += st[j]\n",
    "            if balise_lien:\n",
    "                #le lien\n",
    "                lien += st[j]"
   ],
   "metadata": {
    "collapsed": false,
    "pycharm": {
     "name": "#%%\n"
    }
   }
  },
  {
   "cell_type": "code",
   "execution_count": 671,
   "outputs": [],
   "source": [
    "# recuperation_lien_rss(\"https://www.cert.ssi.gouv.fr/\")"
   ],
   "metadata": {
    "collapsed": false,
    "pycharm": {
     "name": "#%%\n"
    }
   }
  },
  {
   "cell_type": "code",
   "execution_count": 672,
   "outputs": [],
   "source": [
    "\n",
    "#recupere les lignes atoms dans un csv\n",
    "def recuperation_atom():\n",
    "    q =  open(\"Csv_Site/line_atom.csv\", \"w\", newline='', encoding='utf-8')\n",
    "    with open(\"Csv_Site/site_bon_atom.csv\", \"r\") as f: # boucle dans le fichier csv ou il y a les sites possedant des lien atom\n",
    "        readCSV = csv.reader(f)\n",
    "        for i in readCSV: # on fait tourner i dans le csv (ici i va être égale à chaque lettre du fichier)\n",
    "            print ('lien en cours : ' , i)\n",
    "            req = requests.get(\"\".join(i)) # envoie une requête au site du fichier csv\n",
    "            split = enleverbis(req.text).split(\"\\n\") # on split la chaine à chaque fois qu'il y a un retour à la ligne pour sépararer chaque ligne de l'html\n",
    "            for j in split: # on fait tourner j dans le split (ici j va être égale a chaque ligne du fichier)\n",
    "                if \"atom\" in j: # si il y a atom dans la ligne html\n",
    "                    q.write(j + \"\\n\") # si on trouve atom, on ajoute la ligne avec un retour à la ligne a la fin dans la liste\n",
    "    q.close()\n"
   ],
   "metadata": {
    "collapsed": false,
    "pycharm": {
     "name": "#%%\n"
    }
   }
  },
  {
   "cell_type": "code",
   "execution_count": 673,
   "outputs": [],
   "source": [
    "# recuperation_atom()"
   ],
   "metadata": {
    "collapsed": false,
    "pycharm": {
     "name": "#%%\n"
    }
   }
  },
  {
   "cell_type": "code",
   "execution_count": 674,
   "outputs": [],
   "source": [
    "liste_lien_atom = []\n",
    "\n",
    "def recuperation_lien_atom():\n",
    "    global liste_lien_atom\n",
    "    ecriture = open (\"Csv_Site/lien_atom.csv\", \"w\", newline='', encoding='utf-8')\n",
    "    with open(\"Csv_Site/line_atom.csv\", \"r\") as f:\n",
    "        f = ''.join(f.readlines())\n",
    "        # print(list(map(str,f)))\n",
    "        balise_complet,balise_lien = \"\",\"\"\n",
    "        bool_complet,bool_lien = False,False\n",
    "        # temp = []\n",
    "        for i in range(len(f) - 4):\n",
    "\n",
    "\n",
    "            # si on croise\n",
    "            if f[i - 2] + f[i - 1] == \"<a\":\n",
    "                bool_complet = True\n",
    "                # si on croise  on arrete l'ecriture avec g==false ou si on croise \"> er que g==True pour eviter les div\n",
    "\n",
    "            if (f[i - 4] + f[i - 3] + f[i - 2] + f[i - 1] == \"</a>\" or (f[i - 2] + f[i - 1] == '\">') and bool_complet == True):  # check si fin\n",
    "                bool_complet = False\n",
    "                if \"atom\" in balise_complet.lower() and \"#\" not in balise_complet:  # eviter les les #\n",
    "                    # print(l.index(\"atom\"))\n",
    "                    tempo = balise_complet.index(\"atom\")\n",
    "                    # si    [pas de lettre ou de chiffre]atom[pas de lettre ou de chiffre] ou [pas de lettre ou de chiffre]atoms[pas de lettre ou de chiffre]\n",
    "                    if (balise_complet[tempo - 1].isalnum() == False and balise_complet[tempo + 4].isalnum() == False) or (\n",
    "                            balise_complet[tempo - 1].isalnum() == False and balise_complet[tempo + 5].isalnum() == False and balise_complet[\n",
    "                        tempo + 4] == \"s\"):\n",
    "                        # print(l)\n",
    "                        # temp += balise_lien,\n",
    "                        #ecriture.write(balise_lien+\"\\n\")\n",
    "                        if balise_lien+'\\n' not in liste_lien_atom:\n",
    "                            liste_lien_atom.append(balise_lien+'\\n')\n",
    "                        # if balise_lien != \"\":\n",
    "                        #     liste_site_bon_atom.append(balise_lien)\n",
    "                        # print ('lien en cours : ' , balise_lien)\n",
    "                # print(l)\n",
    "                # on renitialise tout\n",
    "                balise_complet = \"\"\n",
    "                balise_lien = \"\"\n",
    "                # si on croise href on met h true afin de pouvoir ecrire\n",
    "            if f[i - 6] + f[i - 5] + f[i - 4] + f[i - 3] + f[i - 2] + f[i - 1] == 'href=\"':\n",
    "                bool_lien = True\n",
    "                # si on croise \" et != = on met h false afin d'arreter l'ecriture\n",
    "            if f[i] == '\"' and f[i + 1] != \"=\":  # check si fin\n",
    "                bool_lien = False\n",
    "            if bool_complet:  # g == True on ecrit\n",
    "                balise_complet += f[i]\n",
    "                if bool_lien:  # h == True on ecrit\n",
    "                    balise_lien += f[i]\n",
    "\n",
    "    ecriture.close()\n",
    "    with open (\"Csv_Site/lien_atom.csv\", \"w\", newline='', encoding='utf-8') as f:\n",
    "        for j in liste_lien_atom:\n",
    "            f.write(j)\n"
   ],
   "metadata": {
    "collapsed": false,
    "pycharm": {
     "name": "#%%\n"
    }
   }
  },
  {
   "cell_type": "code",
   "execution_count": 675,
   "outputs": [],
   "source": [
    "# recuperation_lien_atom()\n",
    "# print(liste_site_bon_atom)\n",
    "# recuperation_lien_rss(\"https://www.cert.ssi.gouv.fr/feed/\")\n",
    "# print(liste_site_bon_atom)\n",
    "# print(liste_site_bon_rss)"
   ],
   "metadata": {
    "collapsed": false,
    "pycharm": {
     "name": "#%%\n"
    }
   }
  },
  {
   "cell_type": "code",
   "execution_count": 676,
   "outputs": [],
   "source": [
    "#fonction qui retire les balises dans des balises <description>\n",
    "#par ex : <description>J'aime les aptes a <p> vanille</p>!!!</description>\n",
    "#la fonction enlevera la balaise <p> et </p>\n",
    "def refra(court):\n",
    "    resultat=\"\"\n",
    "    des_bool_sign = True\n",
    "    court = enlever(court)\n",
    "    for l in range(len(court) - 3):\n",
    "        if court[l] == \"<\":\n",
    "            des_bool_sign = False\n",
    "        if court[l] == \">\":\n",
    "            des_bool_sign = True\n",
    "        if des_bool_sign and (court[l].isalnum() or court[l] not in \"<>{}[]\"):\n",
    "            if court[l] + court[l + 1] + court[l + 2] + court[l + 3] == \"http\":\n",
    "                resultat += \" \"\n",
    "            resultat += court[l]\n",
    "    return resultat\n"
   ],
   "metadata": {
    "collapsed": false,
    "pycharm": {
     "name": "#%%\n"
    }
   }
  },
  {
   "cell_type": "code",
   "execution_count": 677,
   "outputs": [],
   "source": [
    "#cette fonction nous verifier si on peut acceder au site, si oui on regarde si il y a rss ou atom avec la fonction 'recuperation_lien_rss' et 'verificatin_atom'\n",
    "def Connexion_site(dossier_csv):\n",
    "    with open(dossier_csv, \"r\") as f:  # on ouvre un csv en parametre afin d'en examiner plusieurs\n",
    "        readCSV = csv.reader(f)\n",
    "        #on boucle sur tous les liens du fichier\n",
    "        for i in readCSV:\n",
    "            print(\"lien en cours\", i)  # c'est juste pour verifier que le programme de beug pas\n",
    "\n",
    "            #si requete impossible, on passe au suivant\n",
    "            try:\n",
    "                #on fait la requete\n",
    "                req = requests.get(\"\".join(i))  # \"\".join(i) permet de relier le lien du site, car sinon il est séparé et on ne peut pas le traiter # on récupère la requests du site auquel on se connecte\n",
    "\n",
    "                #si 'response 200' on check pour rss et atom\n",
    "                if req.status_code == requests.codes.ok:  # si le site répond par une réponse 200\n",
    "                    # Verification_RSS(req, \"\".join(i))  # lance les fonctions au-dessus avec en paramètre la requests au site et le lien du site pour l'ajouter dans une liste afin de l'ajouter dans un csv par la suite\n",
    "                    recuperation_lien_rss(\"\".join(i))\n",
    "                    Verification_atom(req, \"\".join(i))\n",
    "                else:\n",
    "                    print(\"ca marche pas : \", i)  # pour voir quel site ne fonctionne pas\n",
    "            except:\n",
    "                print(\"lien dead\")\n"
   ],
   "metadata": {
    "collapsed": false,
    "pycharm": {
     "name": "#%%\n"
    }
   }
  },
  {
   "cell_type": "code",
   "execution_count": 678,
   "outputs": [],
   "source": [
    "\n",
    "def recuperation_des_sites():\n",
    "\n",
    "    #cette fonction nous verifier si on peut acceder au site, si oui on regarde si il y a rss ou atom avec la fonction 'recuperation_lien_rss' et 'verificatin_atom'\n",
    "    Connexion_site(input(\"inserez le path de votre fichier\"))\n",
    "\n",
    "    #On separe bien les liens rss et atom dans les fichiers respectiv\n",
    "    New_CSV_site(\"Csv_Site/site_bon_rss.csv\", liste_site_bon_rss)\n",
    "    New_CSV_site(\"Csv_Site/site_bon_atom.csv\", liste_site_bon_atom)\n",
    "\n",
    "    recuperation_atom()\n",
    "    #on check si c'est bien 'atom' et non 'atomique' par ex\n",
    "    #la fonction recuperation_atom recupere les liens possedant 'atom' ou 'atoms'\n",
    "    recuperation_lien_atom()\n",
    "\n",
    "\n",
    "\n",
    "\n",
    "    print(\"Terminé\")"
   ],
   "metadata": {
    "collapsed": false,
    "pycharm": {
     "name": "#%%\n"
    }
   }
  },
  {
   "cell_type": "code",
   "execution_count": 679,
   "outputs": [
    {
     "name": "stdout",
     "output_type": "stream",
     "text": [
      "lien en cours ['https://www.cert.ssi.gouv.fr/']\n",
      "lien en cours ['https://www.ssi.gouv.fr/']\n",
      "lien en cours ['https://www.zataz.com/']\n",
      "lien en cours ['https://www.usine-digitale.fr/cybersecurite/']\n",
      "lien en cours ['https://www.silicon.fr/tag/cybersecurite']\n",
      "lien en cours ['https://www.itsecurityguru.org/']\n",
      "lien en cours ['https://securityweekly.com/']\n",
      "lien en cours ['https://www.infosecurity-magazine.com/']\n",
      "lien en cours ['https://www.futura-sciences.com/tech/cybersecurite/actualites/']\n",
      "lien en cours ['https://siecledigital.fr/cybersecurite/']\n",
      "lien en cours ['https://www.lemondeinformatique.fr/securite-informatique-3.html']\n",
      "lien en cours ['https://www.rtl.fr/sujet/cybersecurite']\n",
      "lien en cours ['https://www.zdnet.fr/actualites/cybersecurite-3900046206q.htm']\n",
      "lien en cours ['https://www.cyberocc.com/sinformer/actualites-cyber/']\n",
      "lien en cours ['https://cyware.com/cyber-security-news-articles']\n",
      "lien en cours ['https://thehackernews.com/']\n",
      "lien en cours ['https://www.securityweek.com/']\n",
      "lien en cours ['https://www.wired.com/tag/cybersecurity/']\n",
      "lien en cours ['https://cybernews.com/']\n",
      "ca marche pas :  ['https://cybernews.com/']\n",
      "lien en cours ['https://cybersecuritynews.com/']\n",
      "lien en cours ['https://www.cnbc.com/cybersecurity/']\n",
      "lien en cours ['https://threatpost.com/']\n",
      "lien en cours ['https://www.ncsc.gov.uk/']\n",
      "lien en cours ['https://muckrack.com/media-outlet/nationalcybersecuritynews']\n",
      "ca marche pas :  ['https://muckrack.com/media-outlet/nationalcybersecuritynews']\n",
      "lien en cours ['https://portswigger.net/daily-swig']\n",
      "lien en cours ['https://cybersecurity.att.com/blogs']\n",
      "lien en cours ['https://grahamcluley.com/']\n",
      "lien en cours ['https://www.schneier.com/blog/archives/2022/10/regulating-daos.html']\n",
      "lien en cours ['https://krebsonsecurity.com/']\n",
      "lien en cours ['https://www.csoonline.com/']\n",
      "lien en cours :  ['https://www.rtl.fr/sujet/cybersecurite']\n",
      "lien en cours :  ['https://www.cyberocc.com/sinformer/actualites-cyber/']\n",
      "lien en cours :  ['https://thehackernews.com/']\n",
      "lien en cours :  ['https://www.schneier.com/blog/archives/2022/10/regulating-daos.html']\n",
      "Terminé\n"
     ]
    }
   ],
   "source": [
    "choix_recommencer = input(\"Voulez vous recommencer la recherche des sites avec du rss et atom ou utiliser les précédent ?('y' ou 'n')\")\n",
    "if choix_recommencer == \"y\":\n",
    "    if not os.path.exists(\"Csv_Site/site_bon_atom.csv\"):\n",
    "        a = open(\"Csv_Site/site_bon_atom.csv\", \"w\") # initialisation des 2 fichiers utiles\n",
    "        a.close()\n",
    "    if not os.path.exists(\"Csv_Site/site_bon_rss.csv\"):\n",
    "        b = open(\"Csv_Site/site_bon_rss.csv\", \"w\")\n",
    "        b.close()\n",
    "    recuperation_des_sites()"
   ],
   "metadata": {
    "collapsed": false,
    "pycharm": {
     "name": "#%%\n"
    }
   }
  },
  {
   "cell_type": "code",
   "execution_count": 680,
   "outputs": [],
   "source": [
    "\n",
    "#dictionnaire pour checker les mois en digits\n",
    "#si on a 'Nov' on renvoit '11'\n",
    "month = {'01': 'janauary',\n",
    "            '02': 'february',\n",
    "            '03': 'march',\n",
    "            '04': 'april',\n",
    "            '05': 'may',\n",
    "            '06': 'june',\n",
    "            '07': 'july',\n",
    "            '08': 'august',\n",
    "            '09': 'september',\n",
    "            '10': 'october',\n",
    "            '11': 'november',\n",
    "            '12': 'december'}\n",
    "\n",
    "\n",
    "#date_debut = datetime.datetime(2000, 10, 1)\n",
    "\n",
    "\n",
    "#la fonction datee permet de généraliser tous les formats afin de l'utiliser avec feedparser\n",
    "def datee(v, date_debut):\n",
    "\n",
    "    #on ajoute un espace devant la date afin de pouvoir realiser cette condition:\n",
    "    #if ((date[i-1].isdigit() or date[i-1].isalpha()==False) and date[i].isalpha() and (date[i+1].isdigit() or date[i+1].isalpha()==False)) == True\n",
    "    #soit (date[i-1].isdigit() or date[i-1].isalpha()==False)\n",
    "    #          ^                        ^\n",
    "    #          |                        |\n",
    "    date = \" \"+v.lower().replace(\"-\",\" \").replace(\"/\",\" \").replace(\",\",\"\") #2022-10-14T14:30:45Z\" en 2022 10 14T14:30:45Z\n",
    "    #\n",
    "    b= \"\"\n",
    "\n",
    "\n",
    "    #remplace les lettres par des espaces \"2022 10 14T14:30:45Z\" en \"2022 10 14 14:30:45\"\n",
    "    #\n",
    "    for i in range(len(date)-1):\n",
    "        if ((date[i-1].isdigit() or date[i-1].isalpha()==False) and date[i].isalpha() and (date[i+1].isdigit() or date[i+1].isalpha()==False)) == True:\n",
    "            b+=\" \"\n",
    "        else:\n",
    "            b+=date[i]\n",
    "\n",
    "    # print(b)\n",
    "\n",
    "    #on re attribut les modifications dans la variable date\n",
    "    date=b\n",
    "    # print(date)\n",
    "\n",
    "    #dictionnaire pour faciliter l'utilisation et la lecture de la date\n",
    "    current = {\"annee\": \"\", \"mois\": \"\", \"jour\": \"\"}\n",
    "\n",
    "    f=[]\n",
    "    c= False\n",
    "\n",
    "    for i in range(len(date)-4):\n",
    "\n",
    "\n",
    "        ##################### Step 1 ########################\n",
    "        #check si c'est le jour/mois soit possede 2 chiffres soit 01 --> janvier\n",
    "        if date[i-1].isalnum()==date[i+2].isalnum()==False and date[i].isdigit()==date[i+1].isdigit()==True and (date[i+2] not in \":\" and date[i-1] not in \":\"):\n",
    "            f+=date[i]+date[i+1],\n",
    "\n",
    "        #check si c'est le jour/mois soit possede 1 chiffre     soit 01 --> janvier à 1 --> janvier\n",
    "        if date[i-1].isalnum()==date[i+1].isalnum()==False and date[i].isdigit()==True and (date[i+1] not in \":\" and date[i-1] not in \":\"):\n",
    "            f+=date[i]+date[i+1],\n",
    "\n",
    "        ##################### Step 2 ########################\n",
    "        #check si c'est l'année soit possede 4 chiffres\n",
    "        if date[i-1].isalnum()==False and date[i].isdigit() and date[i+1].isdigit() and date[i+2].isdigit() and date[i+3].isdigit() and date[i+4].isalnum()==False and date[i+4] not in \":/-\" and date[i-1] not in \":/-\":\n",
    "            f+=date[i]+date[i+1]+date[i+2]+date[i+3],\n",
    "\n",
    "\n",
    "        #si on a des mois en lettre on converti et on insert direct dans le dictionnaire\n",
    "        #donc Step 1 sera le jour et non le mois\n",
    "\n",
    "        for j,k in month.items():\n",
    "            if date[i]+date[i+1]+date[i+2] in k:\n",
    "                # print(j)\n",
    "                current[\"mois\"] = j\n",
    "                c=True\n",
    "                #c == True afin de pas inserer la variable du Step 1 dans current['mois']\n",
    "\n",
    "\n",
    "    #si len(f) < 0, cela veut dire qu'il y a pas eu de \"date de publciation\"\n",
    "    if len(f) >0:\n",
    "        #si il y a eu le mois en lettre\n",
    "        if c:\n",
    "            current[\"jour\"]=f[0]\n",
    "            current[\"annee\"]=f[-1]\n",
    "\n",
    "        #si il n'y a pas eu de mois en lettre\n",
    "        else:\n",
    "            # print(f)\n",
    "        #Seulement si on respect le format aaaa/mm/jj\n",
    "            current[\"annee\"] = f[0]\n",
    "            # current[\"mois\"] = f[1]\n",
    "            current[\"mois\"] = f[1]\n",
    "            current[\"jour\"] = f[-1]\n",
    "        #on convertit en format date\n",
    "\n",
    "        #on converti les dates obtenus en format \"datetime\"\n",
    "        date_voulu = datetime.datetime(int(current[\"annee\"]), int(current[\"mois\"]), int(current[\"jour\"]))\n",
    "\n",
    "        #on check si c'est > a date voulu\n",
    "        if date_debut<date_voulu:\n",
    "            return True\n",
    "    else:\n",
    "        return False"
   ],
   "metadata": {
    "collapsed": false,
    "pycharm": {
     "name": "#%%\n"
    }
   }
  },
  {
   "cell_type": "code",
   "execution_count": 681,
   "outputs": [],
   "source": [
    "#CA TRADUIT LES TEXTES != Francais en Francais\n",
    "\n",
    "#\n",
    "def traducteur(phrase):\n",
    "\n",
    "    #code src : depuis azure microsoft   https://github.com/MicrosoftTranslator\n",
    "    # Add your key and endpoint\n",
    "    #api key william azure translator creer de ma propre poche\n",
    "    #api william : fb8ce793c54347e19cdd06eced15d4a6\n",
    "    #api baptiste : c5dfb5eefde5419c8c9a6f2f6813add9\n",
    "    key = \"c4c193f46d964e90a9399f4f208a8d7f\"\n",
    "    endpoint = \"https://api.cognitive.microsofttranslator.com\"\n",
    "\n",
    "    # location, also known as region.\n",
    "    # required if you're using a multi-service or regional (not global) resource. It can be found in the Azure portal on the Keys and Endpoint page.\n",
    "    location = \"francecentral\"\n",
    "\n",
    "    path = '/translate'\n",
    "    constructed_url = endpoint + path\n",
    "\n",
    "    params = {\n",
    "        'api-version': '3.0',\n",
    "        'to': ['fr']\n",
    "    }\n",
    "    headers = {\n",
    "        'Ocp-Apim-Subscription-Key': key,\n",
    "        # location required if you're using a multi-service or regional (not global) resource.\n",
    "        'Ocp-Apim-Subscription-Region': location,\n",
    "        'Content-type': 'application/json',\n",
    "        'X-ClientTraceId': str(uuid.uuid4())\n",
    "    }\n",
    "\n",
    "    # You can pass more than one object in body.\n",
    "    body = [{\n",
    "        'text': phrase\n",
    "    }]\n",
    "    request = requests.post(constructed_url, params=params, headers=headers, json=body)\n",
    "    response = request.json()\n",
    "    return response[0]['translations'][0]['text']\n"
   ],
   "metadata": {
    "collapsed": false,
    "pycharm": {
     "name": "#%%\n"
    }
   }
  },
  {
   "cell_type": "code",
   "execution_count": 682,
   "outputs": [],
   "source": [
    " # code avec librairie feedparser\n",
    "\n",
    "# permet de récuperer les informations comme le titre, la description, la date et le lien de l'article qui comporte le mot recherché.\n",
    "def parser_site(emplacement, mot, ecriture, date_voulue):\n",
    "    compteur = 0\n",
    "\n",
    "    writer = csv.writer(ecriture) # pour éviter de réécrire plusieur foi la même chose\n",
    "    writer.writerow([f\"mot saisi : {mot}\"]) # on ecrit le mot dans la première ligne\n",
    "    writer.writerow([\"title\", \"description\", \"date\", \"link\"]) # on écrit l'entête\n",
    "\n",
    "    #on ouvre les fichiers contenant les liens rss et atom\n",
    "    with open(emplacement, \"r\", encoding='utf-8') as f:\n",
    "        #variable pour checker les doublons\n",
    "        check_doublon=[]\n",
    "        compteur_article = 0 # compteur pour savoir le nombre d'articles\n",
    "\n",
    "        #lecteur des liens ligne par ligne\n",
    "        reader = csv.reader(f)\n",
    "        for i in reader:\n",
    "            print(\"lien en cours :\", i)\n",
    "            lib_feedparser = feedparser.parse(\"\".join(i)) # permet de parser nos sites\n",
    "            # print(lib_feedparser)\n",
    "            for j in range(len(lib_feedparser.entries)):\n",
    "\n",
    "                #try and except, car lorsqu'il y a pas de description, cela arrete de le program\n",
    "                #try avec description\n",
    "                try:\n",
    "                    # print(lib_feedparser.entries[j].description)\n",
    "                    if lib_feedparser.entries[j].updated is not None and lib_feedparser.entries[j].description is not None and lib_feedparser.entries[j].title is not None and lib_feedparser.entries[j].link is not None :\n",
    "\n",
    "                        #traduit le parse titre et description en francais et regarde si notre mot s'y trouve.\n",
    "                        if mot.lower() in (rapid:=traducteur(refra(str(lib_feedparser.entries[j].title.lower())))) or mot.lower() in (rapid2:=traducteur(refra(str(lib_feedparser.entries[j].description.lower()))).replace(';', \",\")): # on les mets en lower pour être sûr de la comparaison\n",
    "                            data = rapid, rapid2, str(refra(lib_feedparser.entries[j].updated)) , refra(lib_feedparser.entries[j].link)\n",
    "                            compteur_article += 1\n",
    "\n",
    "                            #on regarde si elle ne se trouve pas dans check_doublon\n",
    "                            if datee(lib_feedparser.entries[j].updated, date_voulue) and data not in check_doublon:\n",
    "                                print(data)\n",
    "                                # on ajoute dans data le titre traduit, la derscription traduit, la date d'update, et le lien de l'article\n",
    "                                writer.writerow(data) # et ensuite on les ajoute dans le csv\n",
    "                                check_doublon.append(data)\n",
    "                                compteur+=1\n",
    "\n",
    "\n",
    "                #sinon sans description\n",
    "                except:\n",
    "                    if lib_feedparser.entries[j].updated is not None and lib_feedparser.entries[j].title is not None and lib_feedparser.entries[j].link is not None :\n",
    "                        if mot.lower() in (rapid3:=traducteur(refra(str(lib_feedparser.entries[j].title.lower())))): # on les mets en lower pour être sûr de la comparaison\n",
    "                            data = rapid3,\"pas de description\", str(refra(lib_feedparser.entries[j].updated)) , refra(lib_feedparser.entries[j].link)\n",
    "                            # print(lib_feedparser.entries[j].updated)\n",
    "                            if datee(lib_feedparser.entries[j].updated, date_voulue) and data not in check_doublon:\n",
    "                                # on ajoute dans data le titre traduit, la derscription traduit, la date d'update, et le lien de l'article\n",
    "                                writer.writerow(data) # et ensuite on les ajoute dans le csv\n",
    "                                check_doublon.append(data)\n",
    "                                compteur+=1\n",
    "        writer.writerow([f\"Il y a {compteur_article} fois le mot recherché\"])\n",
    "        writer.writerow([f\"Il y a {compteur} articles\"])\n",
    "\n",
    "        print(f\"Il y a {compteur_article} fois le mot recherché\")\n",
    "        print(f\"Il y a {compteur} articles\")"
   ],
   "metadata": {
    "collapsed": false,
    "pycharm": {
     "name": "#%%\n"
    }
   }
  },
  {
   "cell_type": "code",
   "execution_count": 683,
   "outputs": [],
   "source": [
    "# recuperation_des_sites()"
   ],
   "metadata": {
    "collapsed": false,
    "pycharm": {
     "name": "#%%\n"
    }
   }
  },
  {
   "cell_type": "code",
   "execution_count": 684,
   "outputs": [
    {
     "name": "stdout",
     "output_type": "stream",
     "text": [
      "mot saisi : vulnérabilité\n",
      "le mot ajouté : vulnérabilité\n",
      "lien en cours : ['https://www.cert.ssi.gouv.fr/feed/']\n",
      "('certfr-2022-avi-996 : vulnérabilité dans python 3 (07 novembre 20', 'ce bulletin d&rsquo,actualit&eacute, du cert-fr revient sur les vuln&eacute,rabilit&eacute,s significatives de la semaine pass&eacute,e pour souligner leurs criticit&eacute,s. il ne remplace pa', 'Mon, 07 Nov 2022 09:34:37 +0', ' https://www.cert.ssi.gouv.fr/avis/CERTFR-2022-AVI-9')\n",
      "('certfr-2022-avi-995 : multiples vulnérabilités dans le noyau linux d’ubuntu (04 novembre 20', 'ce bulletin d&rsquo,actualit&eacute, du cert-fr revient sur les vuln&eacute,rabilit&eacute,s significatives de la semaine pass&eacute,e pour souligner leurs criticit&eacute,s. il ne remplace pa', 'Fri, 04 Nov 2022 14:20:14 +0', ' https://www.cert.ssi.gouv.fr/avis/CERTFR-2022-AVI-9')\n",
      "('certfr-2022-avi-994 : multiples vulnérabilités dans vmware spring (04 novembre 20', 'ce bulletin d&rsquo,actualit&eacute, du cert-fr revient sur les vuln&eacute,rabilit&eacute,s significatives de la semaine pass&eacute,e pour souligner leurs criticit&eacute,s. il ne remplace pa', 'Fri, 04 Nov 2022 09:26:50 +0', ' https://www.cert.ssi.gouv.fr/avis/CERTFR-2022-AVI-9')\n",
      "('certfr-2022-avi-993 : multiples vulnérabilités dans tenable nessus (04 novembre 20', 'ce bulletin d&rsquo,actualit&eacute, du cert-fr revient sur les vuln&eacute,rabilit&eacute,s significatives de la semaine pass&eacute,e pour souligner leurs criticit&eacute,s. il ne remplace pa', 'Fri, 04 Nov 2022 09:12:15 +0', ' https://www.cert.ssi.gouv.fr/avis/CERTFR-2022-AVI-9')\n",
      "('certfr-2022-avi-992 : multiples vulnérabilités dans php (04 novembre 20', 'ce bulletin d&rsquo,actualit&eacute, du cert-fr revient sur les vuln&eacute,rabilit&eacute,s significatives de la semaine pass&eacute,e pour souligner leurs criticit&eacute,s. il ne remplace pa', 'Fri, 04 Nov 2022 08:58:27 +0', ' https://www.cert.ssi.gouv.fr/avis/CERTFR-2022-AVI-9')\n",
      "('certfr-2022-avi-991 : multiples vulnérabilités dans le noyau linux de redhat (03 novembre 20', 'ce bulletin d&rsquo,actualit&eacute, du cert-fr revient sur les vuln&eacute,rabilit&eacute,s significatives de la semaine pass&eacute,e pour souligner leurs criticit&eacute,s. il ne remplace pa', 'Thu, 03 Nov 2022 13:06:27 +0', ' https://www.cert.ssi.gouv.fr/avis/CERTFR-2022-AVI-9')\n",
      "('certfr-2022-avi-990 : multiples vulnérabilités dans les produits microsoft (03 novembre 20', 'ce bulletin d&rsquo,actualit&eacute, du cert-fr revient sur les vuln&eacute,rabilit&eacute,s significatives de la semaine pass&eacute,e pour souligner leurs criticit&eacute,s. il ne remplace pa', 'Thu, 03 Nov 2022 11:11:09 +0', ' https://www.cert.ssi.gouv.fr/avis/CERTFR-2022-AVI-9')\n",
      "('certfr-2022-avi-989 : multiples vulnérabilités dans les produits tenable (03 novembre 20', 'ce bulletin d&rsquo,actualit&eacute, du cert-fr revient sur les vuln&eacute,rabilit&eacute,s significatives de la semaine pass&eacute,e pour souligner leurs criticit&eacute,s. il ne remplace pa', 'Thu, 03 Nov 2022 10:57:48 +0', ' https://www.cert.ssi.gouv.fr/avis/CERTFR-2022-AVI-9')\n",
      "('certfr-2022-avi-988 : multiples vulnérabilités dans les produits cisco (03 novembre 20', 'ce bulletin d&rsquo,actualit&eacute, du cert-fr revient sur les vuln&eacute,rabilit&eacute,s significatives de la semaine pass&eacute,e pour souligner leurs criticit&eacute,s. il ne remplace pa', 'Thu, 03 Nov 2022 10:26:41 +0', ' https://www.cert.ssi.gouv.fr/avis/CERTFR-2022-AVI-9')\n",
      "('certfr-2022-avi-987 : multiples vulnérabilités dans gitlab (03 novembre 20', 'ce bulletin d&rsquo,actualit&eacute, du cert-fr revient sur les vuln&eacute,rabilit&eacute,s significatives de la semaine pass&eacute,e pour souligner leurs criticit&eacute,s. il ne remplace pa', 'Thu, 03 Nov 2022 10:18:35 +0', ' https://www.cert.ssi.gouv.fr/avis/CERTFR-2022-AVI-9')\n",
      "('certfr-2022-avi-986 : multiples vulnérabilités dans splunk (03 novembre 20', 'ce bulletin d&rsquo,actualit&eacute, du cert-fr revient sur les vuln&eacute,rabilit&eacute,s significatives de la semaine pass&eacute,e pour souligner leurs criticit&eacute,s. il ne remplace pa', 'Thu, 03 Nov 2022 10:09:08 +0', ' https://www.cert.ssi.gouv.fr/avis/CERTFR-2022-AVI-9')\n",
      "('certfr-2022-avi-985 : multiples vulnérabilités dans openssl (02 novembre 20', 'ce bulletin d&rsquo,actualit&eacute, du cert-fr revient sur les vuln&eacute,rabilit&eacute,s significatives de la semaine pass&eacute,e pour souligner leurs criticit&eacute,s. il ne remplace pa', 'Wed, 02 Nov 2022 14:11:30 +0', ' https://www.cert.ssi.gouv.fr/avis/CERTFR-2022-AVI-9')\n",
      "('certfr-2022-avi-984 : multiples vulnérabilités dans le noyau linux de debian lts (02 novembre 20', 'ce bulletin d&rsquo,actualit&eacute, du cert-fr revient sur les vuln&eacute,rabilit&eacute,s significatives de la semaine pass&eacute,e pour souligner leurs criticit&eacute,s. il ne remplace pa', 'Wed, 02 Nov 2022 14:07:06 +0', ' https://www.cert.ssi.gouv.fr/avis/CERTFR-2022-AVI-9')\n",
      "('certfr-2022-avi-983 : multiples vulnérabilités dans apple xcode (02 novembre 20', 'ce bulletin d&rsquo,actualit&eacute, du cert-fr revient sur les vuln&eacute,rabilit&eacute,s significatives de la semaine pass&eacute,e pour souligner leurs criticit&eacute,s. il ne remplace pa', 'Wed, 02 Nov 2022 14:00:52 +0', ' https://www.cert.ssi.gouv.fr/avis/CERTFR-2022-AVI-9')\n",
      "('certfr-2022-avi-982 : multiples vulnérabilités dans les produits kaspersky (02 novembre 20', 'ce bulletin d&rsquo,actualit&eacute, du cert-fr revient sur les vuln&eacute,rabilit&eacute,s significatives de la semaine pass&eacute,e pour souligner leurs criticit&eacute,s. il ne remplace pa', 'Wed, 02 Nov 2022 13:57:35 +0', ' https://www.cert.ssi.gouv.fr/avis/CERTFR-2022-AVI-9')\n",
      "('certfr-2022-avi-981 : multiples vulnérabilités dans les produits foxit (02 novembre 20', 'ce bulletin d&rsquo,actualit&eacute, du cert-fr revient sur les vuln&eacute,rabilit&eacute,s significatives de la semaine pass&eacute,e pour souligner leurs criticit&eacute,s. il ne remplace pa', 'Wed, 02 Nov 2022 13:52:35 +0', ' https://www.cert.ssi.gouv.fr/avis/CERTFR-2022-AVI-9')\n",
      "('certfr-2022-avi-980 : vulnérabilité dans microsoft edge (02 novembre 20', 'ce bulletin d&rsquo,actualit&eacute, du cert-fr revient sur les vuln&eacute,rabilit&eacute,s significatives de la semaine pass&eacute,e pour souligner leurs criticit&eacute,s. il ne remplace pa', 'Wed, 02 Nov 2022 13:45:01 +0', ' https://www.cert.ssi.gouv.fr/avis/CERTFR-2022-AVI-9')\n",
      "('certfr-2022-avi-979 : scada vulnérabilité dans belden industrial hivision (02 novembre 20', 'ce bulletin d&rsquo,actualit&eacute, du cert-fr revient sur les vuln&eacute,rabilit&eacute,s significatives de la semaine pass&eacute,e pour souligner leurs criticit&eacute,s. il ne remplace pa', 'Wed, 02 Nov 2022 13:40:06 +0', ' https://www.cert.ssi.gouv.fr/avis/CERTFR-2022-AVI-9')\n",
      "('certfr-2022-avi-978 : multiples vulnérabilités dans vmware spring (02 novembre 20', 'ce bulletin d&rsquo,actualit&eacute, du cert-fr revient sur les vuln&eacute,rabilit&eacute,s significatives de la semaine pass&eacute,e pour souligner leurs criticit&eacute,s. il ne remplace pa', 'Wed, 02 Nov 2022 12:36:12 +0', ' https://www.cert.ssi.gouv.fr/avis/CERTFR-2022-AVI-9')\n",
      "('certfr-2022-avi-977 : multiples vulnérabilités dans citrix hypervisor (02 novembre 20', 'ce bulletin d&rsquo,actualit&eacute, du cert-fr revient sur les vuln&eacute,rabilit&eacute,s significatives de la semaine pass&eacute,e pour souligner leurs criticit&eacute,s. il ne remplace pa', 'Wed, 02 Nov 2022 12:29:49 +0', ' https://www.cert.ssi.gouv.fr/avis/CERTFR-2022-AVI-9')\n",
      "('certfr-2022-avi-976 : multiples vulnérabilités dans le noyau linux de suse (02 novembre 20', 'ce bulletin d&rsquo,actualit&eacute, du cert-fr revient sur les vuln&eacute,rabilit&eacute,s significatives de la semaine pass&eacute,e pour souligner leurs criticit&eacute,s. il ne remplace pa', 'Wed, 02 Nov 2022 12:16:21 +0', ' https://www.cert.ssi.gouv.fr/avis/CERTFR-2022-AVI-9')\n",
      "('certfr-2022-avi-975 : vulnérabilité dans apache tomcat (02 novembre 20', 'ce bulletin d&rsquo,actualit&eacute, du cert-fr revient sur les vuln&eacute,rabilit&eacute,s significatives de la semaine pass&eacute,e pour souligner leurs criticit&eacute,s. il ne remplace pa', 'Wed, 02 Nov 2022 12:13:50 +0', ' https://www.cert.ssi.gouv.fr/avis/CERTFR-2022-AVI-9')\n",
      "('certfr-2022-avi-974 : multiples vulnérabilités dans xen (02 novembre 20', 'ce bulletin d&rsquo,actualit&eacute, du cert-fr revient sur les vuln&eacute,rabilit&eacute,s significatives de la semaine pass&eacute,e pour souligner leurs criticit&eacute,s. il ne remplace pa', 'Wed, 02 Nov 2022 12:02:23 +0', ' https://www.cert.ssi.gouv.fr/avis/CERTFR-2022-AVI-9')\n",
      "('certfr-2022-avi-973 : multiples vulnérabilités dans les produits fortinet (02 novembre 20', 'ce bulletin d&rsquo,actualit&eacute, du cert-fr revient sur les vuln&eacute,rabilit&eacute,s significatives de la semaine pass&eacute,e pour souligner leurs criticit&eacute,s. il ne remplace pa', 'Wed, 02 Nov 2022 11:20:13 +0', ' https://www.cert.ssi.gouv.fr/avis/CERTFR-2022-AVI-9')\n",
      "lien en cours : ['https://www.cert.ssi.gouv.fr/feed/scada/']\n",
      "lien en cours : ['https://www.cert.ssi.gouv.fr/alerte/feed/']\n",
      "lien en cours : ['https://www.cert.ssi.gouv.fr/cti/feed/']\n",
      "lien en cours : ['https://www.cert.ssi.gouv.fr/avis/feed/']\n",
      "('certfr-2022-avi-996 : vulnérabilité dans python 3 (07 novembre 20', 'l&rsquo,anssi a observ&eacute, depuis maintenant plusieurs mois des campagnes d&rsquo,attaques dans lesquelles des ran&ccedil,ongiciels nomm&eacute,s &laquo, lockergoga &raquo, et &laquo, ryu', 'Mon, 07 Nov 2022 09:34:37 +0', ' https://www.cert.ssi.gouv.fr/avis/CERTFR-2022-AVI-9')\n",
      "('certfr-2022-avi-995 : multiples vulnérabilités dans le noyau linux d’ubuntu (04 novembre 20', 'l&rsquo,anssi a observ&eacute, depuis maintenant plusieurs mois des campagnes d&rsquo,attaques dans lesquelles des ran&ccedil,ongiciels nomm&eacute,s &laquo, lockergoga &raquo, et &laquo, ryu', 'Fri, 04 Nov 2022 14:20:14 +0', ' https://www.cert.ssi.gouv.fr/avis/CERTFR-2022-AVI-9')\n",
      "('certfr-2022-avi-994 : multiples vulnérabilités dans vmware spring (04 novembre 20', 'l&rsquo,anssi a observ&eacute, depuis maintenant plusieurs mois des campagnes d&rsquo,attaques dans lesquelles des ran&ccedil,ongiciels nomm&eacute,s &laquo, lockergoga &raquo, et &laquo, ryu', 'Fri, 04 Nov 2022 09:26:50 +0', ' https://www.cert.ssi.gouv.fr/avis/CERTFR-2022-AVI-9')\n",
      "('certfr-2022-avi-993 : multiples vulnérabilités dans tenable nessus (04 novembre 20', 'l&rsquo,anssi a observ&eacute, depuis maintenant plusieurs mois des campagnes d&rsquo,attaques dans lesquelles des ran&ccedil,ongiciels nomm&eacute,s &laquo, lockergoga &raquo, et &laquo, ryu', 'Fri, 04 Nov 2022 09:12:15 +0', ' https://www.cert.ssi.gouv.fr/avis/CERTFR-2022-AVI-9')\n",
      "('certfr-2022-avi-992 : multiples vulnérabilités dans php (04 novembre 20', 'l&rsquo,anssi a observ&eacute, depuis maintenant plusieurs mois des campagnes d&rsquo,attaques dans lesquelles des ran&ccedil,ongiciels nomm&eacute,s &laquo, lockergoga &raquo, et &laquo, ryu', 'Fri, 04 Nov 2022 08:58:27 +0', ' https://www.cert.ssi.gouv.fr/avis/CERTFR-2022-AVI-9')\n",
      "('certfr-2022-avi-991 : multiples vulnérabilités dans le noyau linux de redhat (03 novembre 20', 'l&rsquo,anssi a observ&eacute, depuis maintenant plusieurs mois des campagnes d&rsquo,attaques dans lesquelles des ran&ccedil,ongiciels nomm&eacute,s &laquo, lockergoga &raquo, et &laquo, ryu', 'Thu, 03 Nov 2022 13:06:27 +0', ' https://www.cert.ssi.gouv.fr/avis/CERTFR-2022-AVI-9')\n",
      "('certfr-2022-avi-990 : multiples vulnérabilités dans les produits microsoft (03 novembre 20', 'l&rsquo,anssi a observ&eacute, depuis maintenant plusieurs mois des campagnes d&rsquo,attaques dans lesquelles des ran&ccedil,ongiciels nomm&eacute,s &laquo, lockergoga &raquo, et &laquo, ryu', 'Thu, 03 Nov 2022 11:11:09 +0', ' https://www.cert.ssi.gouv.fr/avis/CERTFR-2022-AVI-9')\n",
      "('certfr-2022-avi-989 : multiples vulnérabilités dans les produits tenable (03 novembre 20', 'l&rsquo,anssi a observ&eacute, depuis maintenant plusieurs mois des campagnes d&rsquo,attaques dans lesquelles des ran&ccedil,ongiciels nomm&eacute,s &laquo, lockergoga &raquo, et &laquo, ryu', 'Thu, 03 Nov 2022 10:57:48 +0', ' https://www.cert.ssi.gouv.fr/avis/CERTFR-2022-AVI-9')\n",
      "('certfr-2022-avi-988 : multiples vulnérabilités dans les produits cisco (03 novembre 20', 'l&rsquo,anssi a observ&eacute, depuis maintenant plusieurs mois des campagnes d&rsquo,attaques dans lesquelles des ran&ccedil,ongiciels nomm&eacute,s &laquo, lockergoga &raquo, et &laquo, ryu', 'Thu, 03 Nov 2022 10:26:41 +0', ' https://www.cert.ssi.gouv.fr/avis/CERTFR-2022-AVI-9')\n",
      "('certfr-2022-avi-987 : multiples vulnérabilités dans gitlab (03 novembre 20', 'l&rsquo,anssi a observ&eacute, depuis maintenant plusieurs mois des campagnes d&rsquo,attaques dans lesquelles des ran&ccedil,ongiciels nomm&eacute,s &laquo, lockergoga &raquo, et &laquo, ryu', 'Thu, 03 Nov 2022 10:18:35 +0', ' https://www.cert.ssi.gouv.fr/avis/CERTFR-2022-AVI-9')\n",
      "('certfr-2022-avi-986 : multiples vulnérabilités dans splunk (03 novembre 20', 'l&rsquo,anssi a observ&eacute, depuis maintenant plusieurs mois des campagnes d&rsquo,attaques dans lesquelles des ran&ccedil,ongiciels nomm&eacute,s &laquo, lockergoga &raquo, et &laquo, ryu', 'Thu, 03 Nov 2022 10:09:08 +0', ' https://www.cert.ssi.gouv.fr/avis/CERTFR-2022-AVI-9')\n",
      "('certfr-2022-avi-985 : multiples vulnérabilités dans openssl (02 novembre 20', 'l&rsquo,anssi a observ&eacute, depuis maintenant plusieurs mois des campagnes d&rsquo,attaques dans lesquelles des ran&ccedil,ongiciels nomm&eacute,s &laquo, lockergoga &raquo, et &laquo, ryu', 'Wed, 02 Nov 2022 14:11:30 +0', ' https://www.cert.ssi.gouv.fr/avis/CERTFR-2022-AVI-9')\n",
      "('certfr-2022-avi-984 : multiples vulnérabilités dans le noyau linux de debian lts (02 novembre 20', 'l&rsquo,anssi a observ&eacute, depuis maintenant plusieurs mois des campagnes d&rsquo,attaques dans lesquelles des ran&ccedil,ongiciels nomm&eacute,s &laquo, lockergoga &raquo, et &laquo, ryu', 'Wed, 02 Nov 2022 14:07:06 +0', ' https://www.cert.ssi.gouv.fr/avis/CERTFR-2022-AVI-9')\n",
      "('certfr-2022-avi-983 : multiples vulnérabilités dans apple xcode (02 novembre 20', 'l&rsquo,anssi a observ&eacute, depuis maintenant plusieurs mois des campagnes d&rsquo,attaques dans lesquelles des ran&ccedil,ongiciels nomm&eacute,s &laquo, lockergoga &raquo, et &laquo, ryu', 'Wed, 02 Nov 2022 14:00:52 +0', ' https://www.cert.ssi.gouv.fr/avis/CERTFR-2022-AVI-9')\n",
      "('certfr-2022-avi-982 : multiples vulnérabilités dans les produits kaspersky (02 novembre 20', 'l&rsquo,anssi a observ&eacute, depuis maintenant plusieurs mois des campagnes d&rsquo,attaques dans lesquelles des ran&ccedil,ongiciels nomm&eacute,s &laquo, lockergoga &raquo, et &laquo, ryu', 'Wed, 02 Nov 2022 13:57:35 +0', ' https://www.cert.ssi.gouv.fr/avis/CERTFR-2022-AVI-9')\n",
      "('certfr-2022-avi-981 : multiples vulnérabilités dans les produits foxit (02 novembre 20', 'l&rsquo,anssi a observ&eacute, depuis maintenant plusieurs mois des campagnes d&rsquo,attaques dans lesquelles des ran&ccedil,ongiciels nomm&eacute,s &laquo, lockergoga &raquo, et &laquo, ryu', 'Wed, 02 Nov 2022 13:52:35 +0', ' https://www.cert.ssi.gouv.fr/avis/CERTFR-2022-AVI-9')\n",
      "('certfr-2022-avi-980 : vulnérabilité dans microsoft edge (02 novembre 20', 'l&rsquo,anssi a observ&eacute, depuis maintenant plusieurs mois des campagnes d&rsquo,attaques dans lesquelles des ran&ccedil,ongiciels nomm&eacute,s &laquo, lockergoga &raquo, et &laquo, ryu', 'Wed, 02 Nov 2022 13:45:01 +0', ' https://www.cert.ssi.gouv.fr/avis/CERTFR-2022-AVI-9')\n",
      "('certfr-2022-avi-979 : scada vulnérabilité dans belden industrial hivision (02 novembre 20', 'l&rsquo,anssi a observ&eacute, depuis maintenant plusieurs mois des campagnes d&rsquo,attaques dans lesquelles des ran&ccedil,ongiciels nomm&eacute,s &laquo, lockergoga &raquo, et &laquo, ryu', 'Wed, 02 Nov 2022 13:40:06 +0', ' https://www.cert.ssi.gouv.fr/avis/CERTFR-2022-AVI-9')\n",
      "('certfr-2022-avi-978 : multiples vulnérabilités dans vmware spring (02 novembre 20', 'l&rsquo,anssi a observ&eacute, depuis maintenant plusieurs mois des campagnes d&rsquo,attaques dans lesquelles des ran&ccedil,ongiciels nomm&eacute,s &laquo, lockergoga &raquo, et &laquo, ryu', 'Wed, 02 Nov 2022 12:36:12 +0', ' https://www.cert.ssi.gouv.fr/avis/CERTFR-2022-AVI-9')\n",
      "('certfr-2022-avi-977 : multiples vulnérabilités dans citrix hypervisor (02 novembre 20', 'l&rsquo,anssi a observ&eacute, depuis maintenant plusieurs mois des campagnes d&rsquo,attaques dans lesquelles des ran&ccedil,ongiciels nomm&eacute,s &laquo, lockergoga &raquo, et &laquo, ryu', 'Wed, 02 Nov 2022 12:29:49 +0', ' https://www.cert.ssi.gouv.fr/avis/CERTFR-2022-AVI-9')\n",
      "('certfr-2022-avi-976 : multiples vulnérabilités dans le noyau linux de suse (02 novembre 20', 'l&rsquo,anssi a observ&eacute, depuis maintenant plusieurs mois des campagnes d&rsquo,attaques dans lesquelles des ran&ccedil,ongiciels nomm&eacute,s &laquo, lockergoga &raquo, et &laquo, ryu', 'Wed, 02 Nov 2022 12:16:21 +0', ' https://www.cert.ssi.gouv.fr/avis/CERTFR-2022-AVI-9')\n",
      "('certfr-2022-avi-975 : vulnérabilité dans apache tomcat (02 novembre 20', 'l&rsquo,anssi a observ&eacute, depuis maintenant plusieurs mois des campagnes d&rsquo,attaques dans lesquelles des ran&ccedil,ongiciels nomm&eacute,s &laquo, lockergoga &raquo, et &laquo, ryu', 'Wed, 02 Nov 2022 12:13:50 +0', ' https://www.cert.ssi.gouv.fr/avis/CERTFR-2022-AVI-9')\n",
      "('certfr-2022-avi-974 : multiples vulnérabilités dans xen (02 novembre 20', 'l&rsquo,anssi a observ&eacute, depuis maintenant plusieurs mois des campagnes d&rsquo,attaques dans lesquelles des ran&ccedil,ongiciels nomm&eacute,s &laquo, lockergoga &raquo, et &laquo, ryu', 'Wed, 02 Nov 2022 12:02:23 +0', ' https://www.cert.ssi.gouv.fr/avis/CERTFR-2022-AVI-9')\n",
      "('certfr-2022-avi-973 : multiples vulnérabilités dans les produits fortinet (02 novembre 20', 'l&rsquo,anssi a observ&eacute, depuis maintenant plusieurs mois des campagnes d&rsquo,attaques dans lesquelles des ran&ccedil,ongiciels nomm&eacute,s &laquo, lockergoga &raquo, et &laquo, ryu', 'Wed, 02 Nov 2022 11:20:13 +0', ' https://www.cert.ssi.gouv.fr/avis/CERTFR-2022-AVI-9')\n",
      "lien en cours : ['https://www.cert.ssi.gouv.fr/ioc/feed/']\n",
      "lien en cours : ['https://www.cert.ssi.gouv.fr/dur/feed/']\n",
      "lien en cours : ['https://www.cert.ssi.gouv.fr/actualite/feed/']\n",
      "lien en cours : ['https://www.ssi.gouv.fr/flux-rss/']\n",
      "lien en cours : ['https://www.zataz.com/rss/zataz-news.rss']\n",
      "lien en cours : ['https://www.datasecuritybreach.fr/feed/']\n",
      "lien en cours : ['https://www.datasecuritybreach.fr/']\n",
      "lien en cours : ['https://www.datasecuritybreach.fr/pharos-communication-contributeurs/']\n",
      "lien en cours : ['https://www.datasecuritybreach.fr/vos-anciens-employes-sont-ils-partis-avec-vos-donnees/']\n",
      "lien en cours : ['https://www.datasecuritybreach.fr/furball-domestic-kitten/']\n",
      "lien en cours : ['https://www.datasecuritybreach.fr/approche-responsable-de-la-divulgation-de-failles/']\n",
      "lien en cours : ['https://www.datasecuritybreach.fr/pme-france-crise/']\n",
      "lien en cours : ['https://www.datasecuritybreach.fr/wipers-et-botnets-iot/']\n",
      "lien en cours : ['https://www.datasecuritybreach.fr/microsoft-office-365-message-encryption-vulnerability/']\n",
      "lien en cours : ['https://www.datasecuritybreach.fr/attaque-phishing-dn-poisonning/']\n",
      "lien en cours : ['https://www.datasecuritybreach.fr/executive-order-on-enhancing-safeguards-for-united-states-signals-intelligence-activities/']\n",
      "lien en cours : ['https://www.datasecuritybreach.fr/polonuim-hacker-israel/']\n",
      "lien en cours : ['https://www.datasecuritybreach.fr/confidentialite-donnees-clients-francais/']\n",
      "lien en cours : ['https://www.datasecuritybreach.fr/sante-deces-centre-hospitalier-piratage/']\n",
      "lien en cours : ['https://www.datasecuritybreach.fr/vpn-inde/']\n",
      "lien en cours : ['https://www.datasecuritybreach.fr/hameconnage-vocal-hybride/']\n",
      "lien en cours : ['https://www.datasecuritybreach.fr/faille-python/']\n",
      "lien en cours : ['https://www.datasecuritybreach.fr/cheval-de-troie-harly/']\n",
      "lien en cours : ['https://www.datasecuritybreach.fr/puce-rfid-voiture/']\n",
      "lien en cours : ['https://www.silicon.fr/cybersecurite-cout-marketplaces-dark-web-444657.html']\n",
      "lien en cours : ['https://www.lemondeinformatique.fr/flux-rss/']\n",
      "lien en cours : ['https://www.zdnet.fr/actualites/cybersecurite-3900046206q.htmservices/rss/']\n",
      "lien en cours : ['https://thehackernews.com/']\n",
      "lien en cours : ['https://feeds.feedburner.com/TheHackersNews']\n",
      "('Microsoft met en garde contre une légère augmentation du nombre de pirates informatiques exploitant la vulnérabilité 0-day divulguée publiquement', 'Les chercheurs en cybersécurité ont découvert 29 paquets dans Python Package Index (Pypi), le référentiel officiel de logiciels tiers pour le langage de programmation Python, qui visent à infecter les machines des développeurs avec un malware appelé W4SP Stealer. L’attaque principale semble avoir commencé vers le 12 octobre 2022, prenant lentement de l’ampleur pour atteindre un effort concentré vers le 22 octobre.', 'Sat, 5 Nov 2022 11:30:00 +0', ' https://thehackernews.com/2022/11/microsoft-warns-of-uptick-in-hackers.h')\n",
      "('La CISA met en garde contre des vulnérabilités critiques dans 3 systèmes de contrôle industriel softw', 'Il n’y a pas si longtemps, il existait une séparation claire entre la technologie opérationnelle (OT) qui pilote les fonctions physiques d’une entreprise – dans l’usine, par exemple – et la technologie de l’information (IT) qui gère les données d’une entreprise pour permettre à la direction et planning.as actifs informatiques soient de plus en plus connectés au monde extérieur via Internet, l’OT est resté isolé de l’informatique – et ', 'Fri, 4 Nov 2022 15:31:00 +0', ' https://thehackernews.com/2022/11/cisa-warns-of-critical-vulnerabilities.h')\n",
      "('Plusieurs vulnérabilités signalées dans CheckMK IT Infrastructure Monitoring softW', 'Le populaire service de partage de vidéos courtes TikTok révise sa politique de confidentialité pour les utilisateurs européens afin d’indiquer clairement que les données des utilisateurs peuvent être consultées par certains employés du monde entier, y compris en Chine.La plate-forme appartenant à Bytedance, qui stocke actuellement les données des utilisateurs européens aux États-Unis et à Singapour, a déclaré que la révision faisait partie de ses efforts de gouvernance des données en cours pour limiter l’EMPLO.', 'Wed, 2 Nov 2022 18:41:00 +0', ' https://thehackernews.com/2022/11/multiple-vulnerabilities-reported-in.h')\n",
      "lien en cours : ['https://go.thn.li/crowd-h-d']\n",
      "lien en cours : ['https://feeds.feedburner.com/securityweek']\n",
      "('Apple déploie Xcode Update patching Git Vulnerabilit', 'Apple a annoncé cette semaine une mise à jour de sécurité pour l’environnement de développement Xcode macOS, afin de résoudre trois vulnérabilités Git, dont une conduisant à l’exécution arbitraire de code.Read more', 'Fri, 04 Nov 2022 14:27:48 +0', ' https://www.securityweek.com/apple-rolls-out-xcode-update-patching-git-vulnerabilit')\n",
      "('Cisco corrige les bogues de haute gravité dans les produits de messagerie, d’identité et de sécurité Web', 'Cisco a annoncé cette semaine la publication de correctifs pour de multiples vulnérabilités dans son portefeuille de produits, y compris des défauts de grande gravité dans les produits de sécurité d’identité, de messagerie et Web.Lire la suite', 'Thu, 03 Nov 2022 14:41:02 +0', ' https://www.securityweek.com/cisco-patches-high-severity-bugs-email-identity-web-security-produ')\n",
      "('Splunk corrige 9 vulnérabilités de gravité élevée dans Enterprise PROD', 'Lire la suite', 'Thu, 03 Nov 2022 13:14:33 +0', ' https://www.securityweek.com/splunk-patches-9-high-severity-vulnerabilities-enterprise-prod')\n",
      "('Les vulnérabilités CheckMK peuvent être chaînées pour l’exécution de code distant', 'Un groupe de cybercriminalité parlant français pourrait avoir volé plus de 30 millions de dollars à des banques et à d’autres types d’organisations au cours des dernières années, selon un nouveau rapport publié par la société de cybersécurité Group-IB.Lire la suite', 'Thu, 03 Nov 2022 12:15:09 +0', ' https://www.securityweek.com/checkmk-vulnerabilities-can-be-chained-remote-code-execut')\n",
      "('Fortinet patches 6 Vulnérabilité de gravité élevée', 'Fortinet a informé mardi les clients de 16 vulnérabilités découvertes dans les produits de la société, dont six failles auxquelles un indice de gravité «\\xa0élevé\\xa0» a été attribué.Lire la suite', 'Wed, 02 Nov 2022 16:19:10 +0', ' https://www.securityweek.com/fortinet-patches-6-high-severity-vulnerabilit')\n",
      "lien en cours : ['https://www.wired.com/tag/cybersecurity/about/rss-feeds/']\n",
      "lien en cours : ['https://cybersecuritynews.com/feed/']\n",
      "('Microsoft Defence Report – Les pirates ciblent fortement les vulnérabilités zero-day divulguées publiquement', 'Il existe une extension de navigateur Chrome malveillante connue sous le nom de Chromeloader qui a été classée comme un pirate de navigateur omniprésent attrapé qui modifie les paramètres du navigateur pour rediriger le trafic des utilisateurs vers des sites Web malveillants et voler des informations d’identification. Après sa première apparition en janvier de cette année, Chromeloader s’est développé rapidement. Le malware a maintenant évolué un large éventail de ... le poste Nouveau logiciel malveillant Chromeloader Hijack Chrome Browser pour voler des informations d’identification apparaît en premier sur Cyber Security News.', 'Mon, 07 Nov 2022 14:08:59 +0', ' https://cybersecuritynews.com/microsoft-defence-report-zero-d')\n",
      "('OpenSSL a corrigé deux vulnérabilités de haute gravité qui peuvent être exploitées Remot', 'Dans une divulgation récente, Dropbox a révélé qu’une faille de sécurité s’était produite. Sur GitHub, 130 des référentiels de code source de l’entreprise ont été consultés sans autorisation par les acteurs de la menace. Les auteurs de menaces ont eu accès aux référentiels GitHub de Dropbox en utilisant les informations d’identification volées d’un employé de Dropbox. C’était un jour avant la violation ... le poste Dropbox piraté - Les attaquants ont volé 130 référentiels GitHub apparaît en premier sur Cyber Security News.', 'Thu, 03 Nov 2022 02:50:04 +0', ' https://cybersecuritynews.com/openssl-fixed-two-high-severity-vulnerabiliti')\n",
      "('Follina Exploit permet aux pirates de compromettre le contrôleur de domaine via les SESS RDP', 'Une intrusion a été détectée par le rapport DFIR début juin 2022 qui exploitait la vulnérabilité Follnéra, CVE-2022-30190 pour obtenir un accès initial. En plus d’obtenir un accès initial, il a également initié la chaîne d’infection de QBot. QBOT (aka Qakbot et Pinksliplot) est un malware très actif qui a beaucoup de fonctionnalités et peut être utilisé pour ... le poste Follina exploit laisser les pirates compromettre le contrôleur de domaine via RDP Session apparaît en premier sur Cyber Security News.', 'Wed, 02 Nov 2022 18:58:56 +0', ' https://cybersecuritynews.com/follina-explo')\n",
      "lien en cours : ['https://www.cnbc.com/cybersecurity//www.cnbc.com/rss-feeds/']\n",
      "lien en cours : ['https://threatpost.com/rss-feeds/']\n",
      "lien en cours : ['https://www.schneier.com/feed/atom']\n",
      "('NSA sur la sécurité de la chaîne d’approvisionnement', 'La NSA (en collaboration avec la CISA) a publié un long rapport sur la sécurité de la chaîne d’approvisionnement : « Securing the Software Supply Chain: Recommended Practices Guide for Suppliers. » :p La prévention est souvent considérée comme la responsabilité du développeur de logiciels, car il est tenu de développer et de fournir du code en toute sécurité, de vérifier les composants tiers et de renforcer l’environnement de construction. Mais le fournisseur a également une responsabilité essentielle pour assurer la sécurité et l’intégrité de nos logiciels. Après tout, le fournisseur de logiciels est responsable de la liaison entre le client et le développeur de logiciels. C’est grâce à cette relation que des fonctionnalités de sécurité supplémentaires peuvent être appliquées via des accords contractuels, des versions et des mises à jour logicielles, des notifications et des atténuations de vulnérabilités...', '2022-11-04T14:16:', ' https://www.schneier.com/blog/archives/2022/11/nsa-on-supply-chain-security.h')\n",
      "lien en cours : ['https://www.schneier.com/blog/archives/2022/10/regulating-daos.html/feed/']\n",
      "lien en cours : ['https://krebsonsecurity.com/feed/']\n",
      "Il y a 151 fois le mot recherché\n",
      "Il y a 60 articles\n",
      "lien en cours : ['https://www.cnil.fr/sites/default/files/atoms/files/check_list.pdf']\n",
      "lien en cours : ['https://www.schneier.com/feed/atom']\n",
      "('NSA sur la sécurité de la chaîne d’approvisionnement', 'La NSA (en collaboration avec la CISA) a publié un long rapport sur la sécurité de la chaîne d’approvisionnement : « Securing the Software Supply Chain: Recommended Practices Guide for Suppliers. » :p La prévention est souvent considérée comme la responsabilité du développeur de logiciels, car il est tenu de développer et de fournir du code en toute sécurité, de vérifier les composants tiers et de renforcer l’environnement de construction. Mais le fournisseur a également une responsabilité essentielle pour assurer la sécurité et l’intégrité de nos logiciels. Après tout, le fournisseur de logiciels est responsable de la liaison entre le client et le développeur de logiciels. C’est grâce à cette relation que des fonctionnalités de sécurité supplémentaires peuvent être appliquées via des accords contractuels, des versions et des mises à jour logicielles, des notifications et des atténuations de vulnérabilités...', '2022-11-04T14:16:', ' https://www.schneier.com/blog/archives/2022/11/nsa-on-supply-chain-security.h')\n",
      "Il y a 2 fois le mot recherché\n",
      "Il y a 1 articles\n"
     ]
    }
   ],
   "source": [
    "#fait la recherche des rss atom dans tous jnos liens...\n",
    "\n",
    "boolean = True\n",
    "#ca tourne pour faire des recherches à la suite\n",
    "\n",
    "choix_mot = input(\"Manuel ou avec le fichier prédéfinie ?( 'm' pour manuel et 'f' pour la liste) : \")\n",
    "\n",
    "# pour checher avec le fichier de mots clef\n",
    "if choix_mot == 'f':\n",
    "    if os.path.exists(\"Csv_Site/fichiers_mots_clef.csv\") and open(\"Csv_Site/fichiers_mots_clef.csv\") is not None:\n",
    "        annee_voulue = int(input(\"Entrez l'année jusqu'à quand les articles doivent au maximum datée \"))\n",
    "        mois_voulue = int(input(\"Entrez le mois jusqu'à quand les articles doivent au maximum datée \"))\n",
    "        jours_voulue = int(input(\"Entrez le jour jusqu'à quand les articles doivent au maximum datée \"))\n",
    "        date_voulue = datetime.datetime(annee_voulue, mois_voulue, jours_voulue)\n",
    "        for i in open(\"Csv_Site/fichiers_mots_clef.csv\", \"r\", newline='', encoding='utf-8'):\n",
    "            # mot = str(input(\"Entrez le mot/thèmes que vous souhaitez\")).lower() # pour faire une boucle tant qu'on sort pas pour afficher plusieurs mots\n",
    "            mot = i.replace(\"\\n\", \"\")\n",
    "            print(f\"mot saisi : {mot}\")\n",
    "\n",
    "\n",
    "            ecriture_rss = open(\"result/\"+mot+\"_rss.csv\", \"w\", newline='', encoding='utf-8') # on affilie a ecriture l'ouverture du fichier csv où on veut ecrire les resultats\n",
    "            ecriture_atom = open(\"result/\"+mot+\"_atom.csv\", \"w\", newline='', encoding='utf-8') # on affilie a ecriture l'ouverture du fichiercsv où on veut ecrire les resultats\n",
    "            parser_site(\"Csv_Site/site_bon_rss.csv\", mot, ecriture_rss, date_voulue) # on l'appelle 2 fois pour différencier le rss de l'atom\n",
    "            parser_site(\"Csv_Site/lien_atom.csv\", mot, ecriture_atom, date_voulue)\n",
    "\n",
    "\n",
    "            ecriture_rss.close()\n",
    "            ecriture_atom.close()\n",
    "    else:\n",
    "        print(\"pas de fichier de mots clef\")\n",
    "\n",
    "# pour chercher le mot qu'on veut\n",
    "elif choix_mot == 'm':\n",
    "    good = True\n",
    "    fichier_mots = open(\"Csv_Site/fichiers_mots_clef.csv\", \"a\", newline='', encoding='utf-8')\n",
    "    verification_mots = open(\"Csv_Site/fichiers_mots_clef.csv\", \"r\", newline='', encoding='utf-8')\n",
    "\n",
    "    while boolean:\n",
    "        mot = str(input(\"Entrez le mot/thèmes que vous souhaitez('q' pour quitter)\")).lower() # pour faire une boucle tant qu'on sort pas pour afficher plusieurs mots\n",
    "\n",
    "        if mot == \"q\" or mot == \"\":\n",
    "            break\n",
    "        else:\n",
    "            print(f\"mot saisi : {mot}\")\n",
    "            for i in verification_mots:\n",
    "                if mot in i:\n",
    "                    good = False\n",
    "            if good:\n",
    "                print(\"le mot ajouté : \"+ mot)\n",
    "                fichier_mots.write(mot+\"\\n\")\n",
    "            ecriture_rss = open(\"result/\"+mot+\"_rss.csv\", \"w\", newline='', encoding='utf-8') # on affilie a ecriture l'ouverture du fichier csv où on veut ecrire les resultats\n",
    "            ecriture_atom = open(\"result/\"+mot+\"_atom.csv\", \"w\", newline='', encoding='utf-8') # on affilie a ecriture l'ouverture du fichier csv où on veut ecrire les resultats\n",
    "            annee_voulue = int(input(\"Entrez l'année jusqu'à quand les articles doivent au maximum datée \"))\n",
    "            mois_voulue = int(input(\"Entrez le mois jusqu'à quand les articles doivent au maximum datée \"))\n",
    "            jours_voulue = int(input(\"Entrez le jour jusqu'à quand les articles doivent au maximum datée \"))\n",
    "            date_voulue = datetime.datetime(annee_voulue, mois_voulue, jours_voulue)\n",
    "            parser_site(\"Csv_Site/site_bon_rss.csv\", mot, ecriture_rss, date_voulue) # on l'appelle 2 fois pour différencier le rss de l'atom\n",
    "            parser_site(\"Csv_Site/lien_atom.csv\", mot, ecriture_atom, date_voulue)\n",
    "\n",
    "\n",
    "        ecriture_rss.close()\n",
    "        ecriture_atom.close()\n",
    "    fichier_mots.close()\n",
    "    verification_mots.close()"
   ],
   "metadata": {
    "collapsed": false,
    "pycharm": {
     "name": "#%%\n"
    }
   }
  }
 ],
 "metadata": {
  "kernelspec": {
   "display_name": "Python 3 (ipykernel)",
   "language": "python",
   "name": "python3"
  },
  "language_info": {
   "codemirror_mode": {
    "name": "ipython",
    "version": 3
   },
   "file_extension": ".py",
   "mimetype": "text/x-python",
   "name": "python",
   "nbconvert_exporter": "python",
   "pygments_lexer": "ipython3",
   "version": "3.10.6"
  }
 },
 "nbformat": 4,
 "nbformat_minor": 5
}